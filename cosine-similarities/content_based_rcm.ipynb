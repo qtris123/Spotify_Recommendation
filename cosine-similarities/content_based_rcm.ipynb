{
 "cells": [
  {
   "cell_type": "code",
   "execution_count": 1,
   "metadata": {},
   "outputs": [],
   "source": [
    "import pandas as pd\n",
    "from tqdm import tqdm\n",
    "import os\n",
    "import re\n",
    "\n",
    "from sklearn.feature_extraction.text import TfidfVectorizer\n",
    "from sklearn.preprocessing import MinMaxScaler\n",
    "\n",
    "from textblob import TextBlob\n",
    "\n",
    "from sklearn.metrics.pairwise import cosine_similarity"
   ]
  },
  {
   "cell_type": "code",
   "execution_count": 2,
   "metadata": {},
   "outputs": [
    {
     "name": "stdout",
     "output_type": "stream",
     "text": [
      "c:\\qtri\\Self-learning\\Spotify Recommendation\\Spotify_Recommendation\n"
     ]
    }
   ],
   "source": [
    "print(os.getcwd())"
   ]
  },
  {
   "cell_type": "markdown",
   "metadata": {},
   "source": [
    "### Data Import"
   ]
  },
  {
   "cell_type": "code",
   "execution_count": 3,
   "metadata": {},
   "outputs": [],
   "source": [
    "df = pd.read_csv(\"../data/processed_data (1).csv\")"
   ]
  },
  {
   "cell_type": "code",
   "execution_count": 4,
   "metadata": {},
   "outputs": [
    {
     "data": {
      "text/plain": [
       "Index(['Unnamed: 0.1', 'Unnamed: 0', 'pos', 'artist_name', 'track_uri',\n",
       "       'artist_uri', 'track_name', 'album_uri', 'duration_ms_x', 'album_name',\n",
       "       'name', 'danceability', 'energy', 'key', 'loudness', 'mode',\n",
       "       'speechiness', 'acousticness', 'instrumentalness', 'liveness',\n",
       "       'valence', 'tempo', 'type', 'id', 'uri', 'track_href', 'analysis_url',\n",
       "       'duration_ms_y', 'time_signature', 'artist_pop', 'genres', 'track_pop'],\n",
       "      dtype='object')"
      ]
     },
     "execution_count": 4,
     "metadata": {},
     "output_type": "execute_result"
    }
   ],
   "source": [
    "df.columns"
   ]
  },
  {
   "cell_type": "markdown",
   "metadata": {},
   "source": [
    "### Preprocessing\n",
    "1. Useful datat selection (dedup and drop first 2 columns)\n",
    "2. Bring uris to its basic format (artist_uri, album_uri, uri) (but we don't use them tho)\n",
    "3. List concatenation for genres"
   ]
  },
  {
   "cell_type": "code",
   "execution_count": 5,
   "metadata": {},
   "outputs": [],
   "source": [
    "def dedup(df):\n",
    "    df['artist_song'] = df.apply(lambda row: row['artist_name']+row['track_name'], axis = 1)\n",
    "    return df.drop_duplicates('artist_song')"
   ]
  },
  {
   "cell_type": "code",
   "execution_count": 6,
   "metadata": {},
   "outputs": [],
   "source": [
    "#but we don't need to use these uris thou\n",
    "#songDF['track_uri'] = songDF['track_uri'].apply(lambda x: re.findall(r'\\w+$', x)[0])\n",
    "#songDF['album_uri'] = songDF['album_uri'].apply(lambda x: re.findall(r'\\w+$', x)[0])"
   ]
  },
  {
   "cell_type": "code",
   "execution_count": 7,
   "metadata": {},
   "outputs": [],
   "source": [
    "def select_cols(df):\n",
    "       '''\n",
    "       Select useful columns\n",
    "       '''\n",
    "       return df[['track_uri', 'artist_name','track_name','danceability', 'energy', 'key', 'loudness', 'mode',\n",
    "       'speechiness', 'acousticness', 'instrumentalness', 'liveness', 'valence', 'tempo', \"artist_pop\", \"genres\", \"track_pop\"]]"
   ]
  },
  {
   "cell_type": "markdown",
   "metadata": {},
   "source": [
    "### Feature Generation / Feature Engineer\n",
    "1. One-hot encoding\n",
    "2. Sentiment Analysis\n",
    "3. TF-IDF\n",
    "4. Normalization"
   ]
  },
  {
   "cell_type": "code",
   "execution_count": 8,
   "metadata": {},
   "outputs": [],
   "source": [
    "# OHE \n",
    "# this only applies to categorical columns with one value in each datapoint, won't work for attribute with several values\n",
    "# this doesn't add weights to different categories, so every option weights the same\n",
    "def ohe(df, column_name, new_name):\n",
    "    ohe_df = pd.get_dummies(df[column_name])\n",
    "    feature_name = ohe_df.columns\n",
    "    new_name = [ str(new_name) + \" | \" + str(i) for i in feature_name]\n",
    "    ohe_df.columns = new_name\n",
    "    return ohe_df.reset_index(drop=True)"
   ]
  },
  {
   "cell_type": "code",
   "execution_count": null,
   "metadata": {},
   "outputs": [],
   "source": [
    "#Sentiment Analysis. Conduct with track name to find polarity and subjectivity."
   ]
  },
  {
   "cell_type": "code",
   "execution_count": 9,
   "metadata": {},
   "outputs": [],
   "source": [
    "def getSubjectivity(text):\n",
    "    return TextBlob(text).sentiment.subjectivity\n",
    "def getPolarity(text):\n",
    "    return TextBlob(text).sentiment.polarity"
   ]
  },
  {
   "cell_type": "code",
   "execution_count": 10,
   "metadata": {},
   "outputs": [],
   "source": [
    "def getAnalysis(score, task):\n",
    "    if task == 'Subjectivity':\n",
    "        if score < 1/3:\n",
    "            return 'low'\n",
    "        elif score > 1/3:\n",
    "            return 'high'\n",
    "        else:    \n",
    "            return 'mid'\n",
    "    else:\n",
    "        if score < 0:\n",
    "            return 'negative'\n",
    "        elif score == 0:\n",
    "            return 'mid'\n",
    "        else:\n",
    "            return 'high'"
   ]
  },
  {
   "cell_type": "markdown",
   "metadata": {},
   "source": [
    "### Feature Engineer summary"
   ]
  },
  {
   "cell_type": "code",
   "execution_count": 11,
   "metadata": {},
   "outputs": [],
   "source": [
    "def preprocess(df):\n",
    "    df = dedup(df)\n",
    "    df = select_cols(df)\n",
    "    df['genres'] = df['genres'].apply(lambda genre: genre.split(\" \"))\n",
    "    return df"
   ]
  },
  {
   "cell_type": "code",
   "execution_count": 12,
   "metadata": {},
   "outputs": [],
   "source": [
    "def create_feature_values(songDF):\n",
    "    \n",
    "    #TF-IDF for genres\n",
    "    tfidf = TfidfVectorizer()\n",
    "    tfidf_matrix =  tfidf.fit_transform(songDF['genres'].apply(lambda x: \" \".join(x))) #fit_transform inputs a sentence of genres seperated by a whitespcae\n",
    "    genre_df = pd.DataFrame(tfidf_matrix.toarray())\n",
    "    genre_df.columns = ['genre' + \" | \" + i for i in tfidf.get_feature_names_out()]\n",
    "    genre_df.drop(columns='genre | unknown') # Drop unknown genre, specified by a word \"unknown\"\n",
    "    genre_df.reset_index(drop = True, inplace=True)\n",
    "\n",
    "    # Sentiment analysis\n",
    "    songDF['subjectivity'] = songDF['track_name'].apply(getSubjectivity).apply(lambda x: getAnalysis(x, 'Subjectivity'))\n",
    "    songDF['polarity'] = songDF['track_name'].apply(getPolarity).apply(lambda x: getAnalysis(x, 'Polarity'))\n",
    "\n",
    "    # One-hot Encoding\n",
    "    key_ohe = ohe(songDF, 'key','key') * 0.5\n",
    "    mode_ohe = ohe(songDF, 'mode','mode') * 0.5\n",
    "    subject_ohe = ohe(songDF, 'subjectivity', 'subjectivity') * 0.3\n",
    "    polar_ohe = ohe(songDF, 'polarity', 'polarity') * 0.3\n",
    "\n",
    "    # Scale tempo, loudness, track_pop, artist_pop (Data Normaliation)\n",
    "    scale = MinMaxScaler()\n",
    "    attr_scaled = pd.DataFrame(scale.fit_transform(songDF[['tempo', \"loudness\", \"track_pop\", \"artist_pop\"]]), columns = ['tempo_scaled', \"loundess_scaled\", \"track_pop_scaled\", \"artist_pop_scaled\"])\n",
    "\n",
    "    processed_df = pd.concat([genre_df, key_ohe, mode_ohe, subject_ohe, polar_ohe, attr_scaled, songDF[[\"track_uri\"]].reset_index(drop=True)], axis = 1)\n",
    "    return processed_df"
   ]
  },
  {
   "cell_type": "code",
   "execution_count": 31,
   "metadata": {},
   "outputs": [],
   "source": [
    "preprocessed_df = preprocess(df)\n",
    "complete_feature_set = create_feature_values(preprocessed_df)"
   ]
  },
  {
   "cell_type": "markdown",
   "metadata": {},
   "source": [
    "### Content-based filtering algo"
   ]
  },
  {
   "cell_type": "code",
   "execution_count": 15,
   "metadata": {},
   "outputs": [],
   "source": [
    "playlistDF = pd.read_csv(\"data/test_playlist.csv\")\n",
    "playlistDF = playlistDF[playlistDF['name']==\"Mom's playlist\"]\n",
    "playlistDF = preprocess(playlistDF)"
   ]
  },
  {
   "cell_type": "code",
   "execution_count": 17,
   "metadata": {},
   "outputs": [],
   "source": [
    "def classify_playlist(processed_data, input_data):\n",
    "    #we don't want to recommend existing songs, so we need to filter out songs in train_data that are already in the input_data.\n",
    "    train_data_in_playlist = processed_data[processed_data['track_uri'].isin(input_data['track_uri'])]\n",
    "    train_data_notin_playlist = processed_data[~processed_data['track_uri'].isin(input_data['track_uri'])]\n",
    "    return train_data_in_playlist.sum(axis = 0), train_data_notin_playlist"
   ]
  },
  {
   "cell_type": "code",
   "execution_count": 18,
   "metadata": {},
   "outputs": [],
   "source": [
    "# Generate the features\n",
    "complete_feature_set_playlist_vector, complete_feature_set_nonplaylist = classify_playlist(complete_feature_set, playlistDF)"
   ]
  },
  {
   "cell_type": "code",
   "execution_count": 66,
   "metadata": {},
   "outputs": [],
   "source": [
    "def generate_playlist_recos(df, features, nonplaylist_features):\n",
    "    '''\n",
    "    Generated recommendation based on songs in aspecific playlist.\n",
    "    ---\n",
    "    Input: \n",
    "    df (pandas dataframe): spotify dataframe\n",
    "    features (pandas series): summarized playlist feature (single vector)\n",
    "    nonplaylist_features (pandas dataframe): feature set of songs that are not in the selected playlist\n",
    "        \n",
    "    Output: \n",
    "    non_playlist_df_top_40: Top 40 recommendations for that playlist\n",
    "    '''\n",
    "    \n",
    "    non_playlist_df = df[df['track_uri'].isin(nonplaylist_features['track_uri'].values)]\n",
    "    # Find cosine similarity between the playlist and the complete song set\n",
    "    feature_temp = features.drop(['track_uri'])\n",
    "    non_playlist_df['sim'] = cosine_similarity(nonplaylist_features.drop(['track_uri'], axis = 1).values, feature_temp.values.reshape(1, -1))[:,0]\n",
    "    non_playlist_df_top_40 = non_playlist_df.sort_values('sim',ascending = False).head(40)\n",
    "    \n",
    "    return non_playlist_df_top_40, non_playlist_df"
   ]
  },
  {
   "cell_type": "code",
   "execution_count": 67,
   "metadata": {},
   "outputs": [
    {
     "name": "stderr",
     "output_type": "stream",
     "text": [
      "C:\\Users\\voqua\\AppData\\Local\\Temp\\ipykernel_53692\\1415365705.py:17: SettingWithCopyWarning: \n",
      "A value is trying to be set on a copy of a slice from a DataFrame.\n",
      "Try using .loc[row_indexer,col_indexer] = value instead\n",
      "\n",
      "See the caveats in the documentation: https://pandas.pydata.org/pandas-docs/stable/user_guide/indexing.html#returning-a-view-versus-a-copy\n",
      "  non_playlist_df['sim'] = cosine_similarity(nonplaylist_features.drop(['track_uri'], axis = 1).values, feature_temp.values.reshape(1, -1))[:,0]\n"
     ]
    }
   ],
   "source": [
    "# Genreate top 40 recommendation\n",
    "\n",
    "top40, all = generate_playlist_recos(preprocessed_df, complete_feature_set_playlist_vector, complete_feature_set_nonplaylist)"
   ]
  },
  {
   "cell_type": "code",
   "execution_count": 70,
   "metadata": {},
   "outputs": [],
   "source": [
    "rcm_songs = top40[[\"track_name\", \"artist_name\"]]"
   ]
  },
  {
   "cell_type": "code",
   "execution_count": 72,
   "metadata": {},
   "outputs": [],
   "source": [
    "rcm_songs.to_csv(\"recommended_songs_for_Mom.csv\", index = False)"
   ]
  }
 ],
 "metadata": {
  "kernelspec": {
   "display_name": "base",
   "language": "python",
   "name": "python3"
  },
  "language_info": {
   "codemirror_mode": {
    "name": "ipython",
    "version": 3
   },
   "file_extension": ".py",
   "mimetype": "text/x-python",
   "name": "python",
   "nbconvert_exporter": "python",
   "pygments_lexer": "ipython3",
   "version": "3.11.7"
  }
 },
 "nbformat": 4,
 "nbformat_minor": 2
}
