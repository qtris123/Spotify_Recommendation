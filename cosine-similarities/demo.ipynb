{
 "cells": [
  {
   "cell_type": "code",
   "execution_count": 96,
   "metadata": {},
   "outputs": [],
   "source": [
    "import spotipy\n",
    "from spotipy.oauth2 import SpotifyClientCredentials\n",
    "import pandas as pd"
   ]
  },
  {
   "cell_type": "code",
   "execution_count": 45,
   "metadata": {},
   "outputs": [],
   "source": [
    "cid = '6b4356b846d64135bf4bcec341a96b9c'\n",
    "secret = '0baa0aec07994419887012b77df4a93e'"
   ]
  },
  {
   "cell_type": "code",
   "execution_count": 46,
   "metadata": {},
   "outputs": [],
   "source": [
    "#Authentication - without user  \n",
    "client_credentials_manager = SpotifyClientCredentials(client_id=cid, client_secret=secret)\n",
    "sp = spotipy.Spotify(client_credentials_manager = client_credentials_manager)"
   ]
  },
  {
   "cell_type": "code",
   "execution_count": 47,
   "metadata": {},
   "outputs": [],
   "source": [
    "playlist_link = \"https://open.spotify.com/playlist/37i9dQZEVXbNG2KDcFcKOF?si=1333723a6eff4b7f\"\n",
    "playlist_URI = playlist_link.split(\"/\")[-1].split(\"?\")[0]\n",
    "track_uris = [x[\"track\"][\"uri\"] for x in sp.playlist_tracks(playlist_URI)[\"items\"]]"
   ]
  },
  {
   "cell_type": "code",
   "execution_count": 58,
   "metadata": {},
   "outputs": [
    {
     "data": {
      "text/plain": [
       "dict_keys(['preview_url', 'available_markets', 'explicit', 'type', 'episode', 'track', 'album', 'artists', 'disc_number', 'track_number', 'duration_ms', 'external_ids', 'external_urls', 'href', 'id', 'name', 'popularity', 'uri', 'is_local'])"
      ]
     },
     "execution_count": 58,
     "metadata": {},
     "output_type": "execute_result"
    }
   ],
   "source": [
    "sp.playlist_tracks(playlist_URI)['items'][0]['track'].keys()"
   ]
  },
  {
   "cell_type": "code",
   "execution_count": 93,
   "metadata": {},
   "outputs": [
    {
     "data": {
      "text/plain": [
       "dict_keys(['preview_url', 'available_markets', 'explicit', 'type', 'episode', 'track', 'album', 'artists', 'disc_number', 'track_number', 'duration_ms', 'external_ids', 'external_urls', 'href', 'id', 'name', 'popularity', 'uri', 'is_local'])"
      ]
     },
     "execution_count": 93,
     "metadata": {},
     "output_type": "execute_result"
    }
   ],
   "source": [
    "sp.playlist_tracks(playlist_URI)['items'][0]['track'].keys()"
   ]
  },
  {
   "cell_type": "code",
   "execution_count": 100,
   "metadata": {},
   "outputs": [],
   "source": [
    "artist_uri = sp.playlist_tracks(playlist_URI)['items'][0]['track']['artists'][0]['uri']\n",
    "#sp.artist(artist_uri)"
   ]
  },
  {
   "cell_type": "code",
   "execution_count": 99,
   "metadata": {},
   "outputs": [],
   "source": [
    "#working on the world popular song playlist. Later on: if work on different playlists, add a playlist_name column.\n",
    "songs_dict = {'track_uri':[], 'track_name': [], 'artist_name': [], 'artist_uri': [], 'album_name': [], 'album_uri': [],\n",
    "            'danceability': [], 'energy': [], 'key': [], 'loudness': [], 'mode': [], 'speechiness': [], 'acousticness': [],\n",
    "            'instrumentalness': [], 'liveness': [], 'valence': [], 'tempo': [], 'track_href': [], 'analysis_url': [],\n",
    "            'duration_ms': [], 'time_signature': [], 'artist_pop': [], 'genres': [], 'track_pop': []}\n",
    "for track in sp.playlist_tracks(playlist_URI)[\"items\"]:\n",
    "    #track_uri, track_name\n",
    "    songs_dict['track_uri'].append(track[\"track\"][\"uri\"])\n",
    "    songs_dict['track_name'].append(track[\"track\"][\"name\"])\n",
    "    \n",
    "    #artist_uri, artist_name, genres / this would only take information of the first artist, maybe a song could have more than one\n",
    "    songs_dict['artist_uri'].append(track[\"track\"][\"artists\"][0][\"uri\"])\n",
    "    artist_uri = track[\"track\"][\"artists\"][0][\"uri\"]\n",
    "    songs_dict['artist_name'].append(track[\"track\"][\"artists\"][0]['name'])\n",
    "    artist_info = sp.artist(artist_uri)\n",
    "    songs_dict[\"genres\"].append(artist_info[\"genres\"])\n",
    "\n",
    "    #album_name, album_uri \n",
    "    songs_dict['album_name'].append(track[\"track\"][\"album\"][\"name\"])\n",
    "    songs_dict['album_uri'].append(track[\"track\"][\"album\"][\"uri\"])\n",
    "    \n",
    "    #audio_features\n",
    "    audio_features = sp.audio_features(track[\"track\"][\"uri\"])[0]\n",
    "    songs_dict[\"danceability\"].append(audio_features[\"danceability\"])\n",
    "    songs_dict[\"energy\"].append(audio_features[\"energy\"])\n",
    "    songs_dict[\"key\"].append(audio_features[\"key\"])\n",
    "    songs_dict[\"loudness\"].append(audio_features[\"loudness\"])\n",
    "    songs_dict[\"mode\"].append(audio_features[\"mode\"])\n",
    "    songs_dict[\"speechiness\"].append(audio_features[\"speechiness\"])\n",
    "    songs_dict[\"acousticness\"].append(audio_features[\"acousticness\"])\n",
    "    songs_dict[\"instrumentalness\"].append(audio_features[\"instrumentalness\"])\n",
    "    songs_dict[\"liveness\"].append(audio_features[\"liveness\"])\n",
    "    songs_dict[\"valence\"].append(audio_features[\"valence\"])\n",
    "    songs_dict[\"tempo\"].append(audio_features[\"tempo\"])\n",
    "    songs_dict[\"track_href\"].append(audio_features[\"track_href\"])\n",
    "    songs_dict[\"analysis_url\"].append(audio_features[\"analysis_url\"])\n",
    "    songs_dict[\"duration_ms\"].append(audio_features[\"duration_ms\"])\n",
    "    songs_dict[\"time_signature\"].append(audio_features[\"time_signature\"])\n",
    "\n",
    "    #artist_pop, track_pop\n",
    "    songs_dict['artist_pop'].append(artist_info[\"popularity\"])\n",
    "    songs_dict['track_pop'].append(track[\"track\"][\"popularity\"])"
   ]
  },
  {
   "cell_type": "code",
   "execution_count": 101,
   "metadata": {},
   "outputs": [],
   "source": [
    "songs_df = pd.DataFrame.from_dict(songs_dict)"
   ]
  },
  {
   "cell_type": "markdown",
   "metadata": {},
   "source": [
    "## Data Cleaning"
   ]
  },
  {
   "cell_type": "code",
   "execution_count": 112,
   "metadata": {},
   "outputs": [],
   "source": [
    "# use to eliminate same song appearing in different playlists, but we are only using 1 playlist, so this function is meaningless\n",
    "def dedup(df):\n",
    "    df[\"artist_song\"] = df.apply(lambda row: row['arist_name'] + row['track_name'], axis = 1)\n",
    "    return df.drop_duplicates('artist_song')"
   ]
  },
  {
   "cell_type": "markdown",
   "metadata": {},
   "source": [
    "## Features Engineering"
   ]
  },
  {
   "cell_type": "markdown",
   "metadata": {},
   "source": [
    "### Metadata ( features described the song but not the song itself )"
   ]
  },
  {
   "cell_type": "code",
   "execution_count": null,
   "metadata": {},
   "outputs": [],
   "source": [
    "#genres, track_pop"
   ]
  },
  {
   "cell_type": "markdown",
   "metadata": {},
   "source": [
    "### Firstly, we need to deal with categorical data, such as genres, key, mode, polar -> One-hot encoding and TF-IDF (weighted OHE)"
   ]
  },
  {
   "cell_type": "code",
   "execution_count": 127,
   "metadata": {},
   "outputs": [],
   "source": [
    "def ohe(df, col):\n",
    "    '''''\n",
    "    Input: \n",
    "    - a dataframe containing a column we want to encode: df\n",
    "    - the name of that column: col\n",
    "    Output:\n",
    "    - a new dataframe with encoded information\n",
    "    '''''\n",
    "    category_df = pd.get_dummies(df[col])\n",
    "    feature_name = category_df.columns\n",
    "    category_df.columns = [str(col) + \"|\" + str(genre) for genre in feature_name]\n",
    "    category_df.reset_index(drop = True, inplace = True)\n",
    "    return category_df"
   ]
  }
 ],
 "metadata": {
  "kernelspec": {
   "display_name": "base",
   "language": "python",
   "name": "python3"
  },
  "language_info": {
   "codemirror_mode": {
    "name": "ipython",
    "version": 3
   },
   "file_extension": ".py",
   "mimetype": "text/x-python",
   "name": "python",
   "nbconvert_exporter": "python",
   "pygments_lexer": "ipython3",
   "version": "3.11.7"
  }
 },
 "nbformat": 4,
 "nbformat_minor": 2
}
