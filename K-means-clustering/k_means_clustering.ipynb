{
 "cells": [
  {
   "cell_type": "code",
   "execution_count": 1,
   "metadata": {},
   "outputs": [],
   "source": [
    "import pandas as pd\n",
    "import numpy as np\n",
    "from tqdm import tqdm\n",
    "import os\n",
    "import re\n",
    "import matplotlib.pyplot as plt\n",
    "\n",
    "from sklearn.feature_extraction.text import TfidfVectorizer\n",
    "from sklearn.preprocessing import MinMaxScaler\n",
    "from sklearn.preprocessing import StandardScaler\n",
    "\n",
    "from textblob import TextBlob\n",
    "\n",
    "from sklearn.cluster import KMeans\n",
    "from sklearn.decomposition import PCA\n",
    "from IPython.display import HTML, display\n",
    "import ipywidgets as widgets\n",
    "from matplotlib.animation import FuncAnimation"
   ]
  },
  {
   "cell_type": "code",
   "execution_count": 2,
   "metadata": {},
   "outputs": [],
   "source": [
    "df = pd.read_csv(\"../data/processed_data (1).csv\")"
   ]
  },
  {
   "cell_type": "code",
   "execution_count": 4,
   "metadata": {},
   "outputs": [
    {
     "data": {
      "text/plain": [
       "(67499, 32)"
      ]
     },
     "execution_count": 4,
     "metadata": {},
     "output_type": "execute_result"
    }
   ],
   "source": [
    "df.shape"
   ]
  },
  {
   "cell_type": "code",
   "execution_count": 3,
   "metadata": {},
   "outputs": [
    {
     "data": {
      "text/plain": [
       "67499"
      ]
     },
     "execution_count": 3,
     "metadata": {},
     "output_type": "execute_result"
    }
   ],
   "source": [
    "df.shape[0]"
   ]
  },
  {
   "cell_type": "markdown",
   "metadata": {},
   "source": [
    "### Data Preprocessing"
   ]
  },
  {
   "cell_type": "code",
   "execution_count": 5,
   "metadata": {},
   "outputs": [],
   "source": [
    "def dedup(df):\n",
    "    df['artist_song'] = df.apply(lambda row: row['artist_name']+row['track_name'], axis = 1)\n",
    "    return df.drop_duplicates('artist_song')"
   ]
  },
  {
   "cell_type": "code",
   "execution_count": 6,
   "metadata": {},
   "outputs": [],
   "source": [
    "def select_cols(df):\n",
    "       '''\n",
    "       Select useful columns\n",
    "       '''\n",
    "       return df[['track_uri', 'artist_name','track_name','danceability', 'energy', 'key', 'loudness', 'mode',\n",
    "       'speechiness', 'acousticness', 'instrumentalness', 'liveness', 'valence', 'tempo', \"artist_pop\", \"genres\", \"track_pop\"]]"
   ]
  },
  {
   "cell_type": "code",
   "execution_count": 7,
   "metadata": {},
   "outputs": [],
   "source": [
    "# OHE \n",
    "# this only applies to categorical columns with one value in each datapoint, won't work for attribute with several values\n",
    "# this doesn't add weights to different categories, so every option weights the same\n",
    "def ohe(df, column_name, new_name):\n",
    "    ohe_df = pd.get_dummies(df[column_name])\n",
    "    feature_name = ohe_df.columns\n",
    "    new_name = [ str(new_name) + \" | \" + str(i) for i in feature_name]\n",
    "    ohe_df.columns = new_name\n",
    "    return ohe_df.reset_index(drop=True)"
   ]
  },
  {
   "cell_type": "code",
   "execution_count": 8,
   "metadata": {},
   "outputs": [],
   "source": [
    "def getSubjectivity(text):\n",
    "    return TextBlob(text).sentiment.subjectivity\n",
    "def getPolarity(text):\n",
    "    return TextBlob(text).sentiment.polarity"
   ]
  },
  {
   "cell_type": "code",
   "execution_count": 9,
   "metadata": {},
   "outputs": [],
   "source": [
    "def getAnalysis(score, task):\n",
    "    if task == 'Subjectivity':\n",
    "        if score < 1/3:\n",
    "            return 'low'\n",
    "        elif score > 1/3:\n",
    "            return 'high'\n",
    "        else:    \n",
    "            return 'mid'\n",
    "    else:\n",
    "        if score < 0:\n",
    "            return 'negative'\n",
    "        elif score == 0:\n",
    "            return 'mid'\n",
    "        else:\n",
    "            return 'high'"
   ]
  },
  {
   "cell_type": "code",
   "execution_count": 10,
   "metadata": {},
   "outputs": [],
   "source": [
    "def preprocess(df):\n",
    "    df = dedup(df)\n",
    "    df = select_cols(df)\n",
    "    df['genres'] = df['genres'].apply(lambda genre: genre.split(\" \"))\n",
    "    return df"
   ]
  },
  {
   "cell_type": "code",
   "execution_count": 13,
   "metadata": {},
   "outputs": [],
   "source": [
    "def create_feature_values(songDF):\n",
    "    \n",
    "    #TF-IDF for genres\n",
    "    tfidf = TfidfVectorizer()\n",
    "    tfidf_matrix =  tfidf.fit_transform(songDF['genres'].apply(lambda x: \" \".join(x))) #fit_transform inputs a sentence of genres seperated by a whitespcae\n",
    "    genre_df = pd.DataFrame(tfidf_matrix.toarray())\n",
    "    genre_df.columns = ['genre' + \" | \" + i for i in tfidf.get_feature_names_out()]\n",
    "    genre_df.drop(columns='genre | unknown') # Drop unknown genre, specified by a word \"unknown\"\n",
    "    genre_df.reset_index(drop = True, inplace=True)\n",
    "\n",
    "    # Sentiment analysis\n",
    "    songDF['subjectivity'] = songDF['track_name'].apply(getSubjectivity).apply(lambda x: getAnalysis(x, 'Subjectivity'))\n",
    "    songDF['polarity'] = songDF['track_name'].apply(getPolarity).apply(lambda x: getAnalysis(x, 'Polarity'))\n",
    "\n",
    "    # One-hot Encoding\n",
    "    key_ohe = ohe(songDF, 'key','key') * 0.5\n",
    "    mode_ohe = ohe(songDF, 'mode','mode') * 0.5\n",
    "    subject_ohe = ohe(songDF, 'subjectivity', 'subjectivity') * 0.3\n",
    "    polar_ohe = ohe(songDF, 'polarity', 'polarity') * 0.3\n",
    "\n",
    "    # Scale tempo, loudness, track_pop, artist_pop (Data Normaliation)\n",
    "    scale = MinMaxScaler()\n",
    "    attr_scaled = pd.DataFrame(scale.fit_transform(songDF[['tempo', \"loudness\", \"track_pop\", \"artist_pop\"]]), columns = ['tempo_scaled', \"loundess_scaled\", \"track_pop_scaled\", \"artist_pop_scaled\"])\n",
    "\n",
    "    processed_df = pd.concat([genre_df, key_ohe, mode_ohe, subject_ohe, polar_ohe, attr_scaled, songDF[[\"track_uri\"]].reset_index(drop=True)], axis = 1)\n",
    "    return processed_df"
   ]
  },
  {
   "cell_type": "markdown",
   "metadata": {},
   "source": [
    "### Creating materials\n"
   ]
  },
  {
   "cell_type": "code",
   "execution_count": 43,
   "metadata": {},
   "outputs": [],
   "source": [
    "preprocessed_data = preprocess(df)\n",
    "processed_data = create_feature_values(preprocessed_data)\n",
    "track_uri = processed_data['track_uri']\n",
    "processed_data.drop(['track_uri'], axis = 1, inplace = True)"
   ]
  },
  {
   "cell_type": "code",
   "execution_count": 96,
   "metadata": {},
   "outputs": [],
   "source": [
    "def apply_clustering(scaled_features, n_clusters):\n",
    "    kmeans = KMeans(n_clusters=n_clusters, random_state=42)\n",
    "    cluster_labels = kmeans.fit_predict(scaled_features[:4])\n",
    "    return kmeans, cluster_labels"
   ]
  },
  {
   "cell_type": "code",
   "execution_count": 84,
   "metadata": {},
   "outputs": [],
   "source": [
    "def plot_elbow_method(scaled_features, max_clusters=10):\n",
    "    sse = []\n",
    "    for k in range(1, max_clusters + 1):\n",
    "        kmeans = KMeans(n_clusters=k, n_init='auto', random_state=42)\n",
    "        kmeans.fit(scaled_features)\n",
    "        sse.append(kmeans.inertia_)\n",
    "\n",
    "    plt.figure(figsize=(10, 8))\n",
    "    plt.plot(range(1, max_clusters + 1), sse, marker='o')\n",
    "    plt.title('Elbow Method for Optimal Number of Clusters')\n",
    "    plt.xlabel('Number of Clusters')\n",
    "    plt.ylabel('Sum of Squared Distances (SSE)')\n",
    "    plt.show()"
   ]
  },
  {
   "cell_type": "code",
   "execution_count": null,
   "metadata": {},
   "outputs": [],
   "source": []
  },
  {
   "cell_type": "code",
   "execution_count": 6,
   "metadata": {},
   "outputs": [],
   "source": [
    "test_songs = pd.read_csv(\"../data/test_playlist.csv\")"
   ]
  },
  {
   "cell_type": "code",
   "execution_count": 9,
   "metadata": {},
   "outputs": [],
   "source": [
    "test_songs[:5].to_csv(\"test_songs.csv\")"
   ]
  }
 ],
 "metadata": {
  "kernelspec": {
   "display_name": "base",
   "language": "python",
   "name": "python3"
  },
  "language_info": {
   "codemirror_mode": {
    "name": "ipython",
    "version": 3
   },
   "file_extension": ".py",
   "mimetype": "text/x-python",
   "name": "python",
   "nbconvert_exporter": "python",
   "pygments_lexer": "ipython3",
   "version": "3.11.7"
  }
 },
 "nbformat": 4,
 "nbformat_minor": 2
}
